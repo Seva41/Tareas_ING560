{
 "cells": [
  {
   "cell_type": "markdown",
   "id": "adab392d",
   "metadata": {},
   "source": [
    "## Tarea Práctica 1\n",
    "### Álgebra Lineal y Optimización para Data Science 2023/2\n",
    "\n",
    "#### Integrantes: Sebastián Dinator, Joaquín Olivares, Benjamín Valdés."
   ]
  },
  {
   "cell_type": "markdown",
   "id": "33a557a1",
   "metadata": {},
   "source": [
    "### Ejercicio 3)"
   ]
  },
  {
   "cell_type": "code",
   "execution_count": 1,
   "id": "ee456c74-7550-4b9c-be1c-2d522ac6f574",
   "metadata": {
    "tags": []
   },
   "outputs": [
    {
     "data": {
      "text/html": [
       "<div>\n",
       "<style scoped>\n",
       "    .dataframe tbody tr th:only-of-type {\n",
       "        vertical-align: middle;\n",
       "    }\n",
       "\n",
       "    .dataframe tbody tr th {\n",
       "        vertical-align: top;\n",
       "    }\n",
       "\n",
       "    .dataframe thead th {\n",
       "        text-align: right;\n",
       "    }\n",
       "</style>\n",
       "<table border=\"1\" class=\"dataframe\">\n",
       "  <thead>\n",
       "    <tr style=\"text-align: right;\">\n",
       "      <th></th>\n",
       "      <th>RI</th>\n",
       "      <th>Na</th>\n",
       "      <th>Mg</th>\n",
       "      <th>Al</th>\n",
       "      <th>Si</th>\n",
       "      <th>K</th>\n",
       "      <th>Ca</th>\n",
       "      <th>Ba</th>\n",
       "      <th>Fe</th>\n",
       "      <th>Target</th>\n",
       "    </tr>\n",
       "  </thead>\n",
       "  <tbody>\n",
       "    <tr>\n",
       "      <th>0</th>\n",
       "      <td>1.52101</td>\n",
       "      <td>13.64</td>\n",
       "      <td>4.49</td>\n",
       "      <td>1.10</td>\n",
       "      <td>71.78</td>\n",
       "      <td>0.06</td>\n",
       "      <td>8.75</td>\n",
       "      <td>0.0</td>\n",
       "      <td>0.0</td>\n",
       "      <td>1</td>\n",
       "    </tr>\n",
       "    <tr>\n",
       "      <th>1</th>\n",
       "      <td>1.51761</td>\n",
       "      <td>13.89</td>\n",
       "      <td>3.60</td>\n",
       "      <td>1.36</td>\n",
       "      <td>72.73</td>\n",
       "      <td>0.48</td>\n",
       "      <td>7.83</td>\n",
       "      <td>0.0</td>\n",
       "      <td>0.0</td>\n",
       "      <td>1</td>\n",
       "    </tr>\n",
       "    <tr>\n",
       "      <th>2</th>\n",
       "      <td>1.51618</td>\n",
       "      <td>13.53</td>\n",
       "      <td>3.55</td>\n",
       "      <td>1.54</td>\n",
       "      <td>72.99</td>\n",
       "      <td>0.39</td>\n",
       "      <td>7.78</td>\n",
       "      <td>0.0</td>\n",
       "      <td>0.0</td>\n",
       "      <td>1</td>\n",
       "    </tr>\n",
       "    <tr>\n",
       "      <th>3</th>\n",
       "      <td>1.51766</td>\n",
       "      <td>13.21</td>\n",
       "      <td>3.69</td>\n",
       "      <td>1.29</td>\n",
       "      <td>72.61</td>\n",
       "      <td>0.57</td>\n",
       "      <td>8.22</td>\n",
       "      <td>0.0</td>\n",
       "      <td>0.0</td>\n",
       "      <td>1</td>\n",
       "    </tr>\n",
       "    <tr>\n",
       "      <th>4</th>\n",
       "      <td>1.51742</td>\n",
       "      <td>13.27</td>\n",
       "      <td>3.62</td>\n",
       "      <td>1.24</td>\n",
       "      <td>73.08</td>\n",
       "      <td>0.55</td>\n",
       "      <td>8.07</td>\n",
       "      <td>0.0</td>\n",
       "      <td>0.0</td>\n",
       "      <td>1</td>\n",
       "    </tr>\n",
       "  </tbody>\n",
       "</table>\n",
       "</div>"
      ],
      "text/plain": [
       "        RI     Na    Mg    Al     Si     K    Ca   Ba   Fe  Target\n",
       "0  1.52101  13.64  4.49  1.10  71.78  0.06  8.75  0.0  0.0       1\n",
       "1  1.51761  13.89  3.60  1.36  72.73  0.48  7.83  0.0  0.0       1\n",
       "2  1.51618  13.53  3.55  1.54  72.99  0.39  7.78  0.0  0.0       1\n",
       "3  1.51766  13.21  3.69  1.29  72.61  0.57  8.22  0.0  0.0       1\n",
       "4  1.51742  13.27  3.62  1.24  73.08  0.55  8.07  0.0  0.0       1"
      ]
     },
     "execution_count": 1,
     "metadata": {},
     "output_type": "execute_result"
    }
   ],
   "source": [
    "from ucimlrepo import fetch_ucirepo\n",
    "\n",
    "# Fetch Glass Identification dataset\n",
    "glass_identification = fetch_ucirepo(id=42)\n",
    "\n",
    "# Extract features and targets\n",
    "X = glass_identification.data.features\n",
    "y = glass_identification.data.targets\n",
    "\n",
    "# Explorar el conjunto de datos (opcional)\n",
    "import pandas as pd\n",
    "df = pd.DataFrame(data=X, columns=glass_identification.data.feature_names)\n",
    "df['Target'] = y\n",
    "df.head()"
   ]
  },
  {
   "cell_type": "markdown",
   "id": "fa470f3c",
   "metadata": {},
   "source": [
    "#### Ejercicio 3B)"
   ]
  },
  {
   "cell_type": "code",
   "execution_count": 13,
   "id": "db560b0c-0267-4688-ae57-7dc04509e3c2",
   "metadata": {
    "tags": []
   },
   "outputs": [
    {
     "name": "stdout",
     "output_type": "stream",
     "text": [
      "Precisión del modelo LDA: 0.6461538461538462\n",
      "Matriz de Confusión para LDA:\n",
      " [[16  2  1  0  0  0]\n",
      " [ 6 15  1  0  1  0]\n",
      " [ 3  1  0  0  0  0]\n",
      " [ 0  2  1  1  2  0]\n",
      " [ 0  0  0  0  2  1]\n",
      " [ 1  0  0  0  1  8]]\n"
     ]
    },
    {
     "name": "stderr",
     "output_type": "stream",
     "text": [
      "C:\\Users\\sebad\\anaconda3\\Lib\\site-packages\\sklearn\\utils\\validation.py:1184: DataConversionWarning: A column-vector y was passed when a 1d array was expected. Please change the shape of y to (n_samples, ), for example using ravel().\n",
      "  y = column_or_1d(y, warn=True)\n"
     ]
    }
   ],
   "source": [
    "from sklearn.discriminant_analysis import LinearDiscriminantAnalysis\n",
    "from sklearn.model_selection import train_test_split\n",
    "from sklearn.metrics import accuracy_score, confusion_matrix\n",
    "import matplotlib.pyplot as plt\n",
    "\n",
    "# Dividir el conjunto de datos en entrenamiento y prueba\n",
    "X_train, X_test, y_train, y_test = train_test_split(X, y, test_size=0.3, random_state=42)\n",
    "\n",
    "# Entrenar el modelo LDA (sin probabilidades a priori)\n",
    "lda = LinearDiscriminantAnalysis()\n",
    "lda.fit(X_train, y_train)\n",
    "\n",
    "# Predecir etiquetas de clase para el conjunto de prueba\n",
    "y_pred_lda = lda.predict(X_test)\n",
    "\n",
    "# Calcular precisión y matriz de confusión para LDA\n",
    "accuracy_lda = accuracy_score(y_test, y_pred_lda)\n",
    "confusion_matrix_lda = confusion_matrix(y_test, y_pred_lda)\n",
    "\n",
    "# Imprimir métricas para LDA\n",
    "print(\"Precisión del modelo LDA:\", accuracy_lda)\n",
    "print(\"Matriz de Confusión para LDA:\\n\", confusion_matrix_lda)\n"
   ]
  },
  {
   "cell_type": "markdown",
   "id": "aacb1ee0",
   "metadata": {},
   "source": [
    "La precisión del modelo LDA es aproximadamente de un 64.6% de las clasificaciones de nuestro conjunto de prueba."
   ]
  },
  {
   "cell_type": "markdown",
   "id": "4348783a",
   "metadata": {},
   "source": [
    "#### Ejercicio 3C)"
   ]
  },
  {
   "cell_type": "code",
   "execution_count": 9,
   "id": "e57ed795-71e0-4f5e-963f-144184d92d8b",
   "metadata": {
    "tags": []
   },
   "outputs": [
    {
     "name": "stdout",
     "output_type": "stream",
     "text": [
      "Precisión del modelo GMM: 0.2923076923076923\n",
      "Matriz de Confusión para GMM:\n",
      " [[ 0  0  0  0  0  0  0]\n",
      " [ 0 19  0  0  0  0  0]\n",
      " [ 7 16  0  0  0  0  0]\n",
      " [ 1  3  0  0  0  0  0]\n",
      " [ 6  0  0  0  0  0  0]\n",
      " [ 3  0  0  0  0  0  0]\n",
      " [10  0  0  0  0  0  0]]\n"
     ]
    },
    {
     "name": "stderr",
     "output_type": "stream",
     "text": [
      "C:\\Users\\sebad\\anaconda3\\Lib\\site-packages\\sklearn\\cluster\\_kmeans.py:1436: UserWarning: KMeans is known to have a memory leak on Windows with MKL, when there are less chunks than available threads. You can avoid it by setting the environment variable OMP_NUM_THREADS=1.\n",
      "  warnings.warn(\n"
     ]
    }
   ],
   "source": [
    "from sklearn.mixture import GaussianMixture\n",
    "\n",
    "# Entrenar el modelo de Gaussian Mixture\n",
    "gmm = GaussianMixture(n_components=2)  # Cambiar el número de componentes según sea necesario\n",
    "gmm.fit(X_train)\n",
    "\n",
    "# Predecir etiquetas de clase para el conjunto de prueba\n",
    "y_pred_gmm = gmm.predict(X_test)\n",
    "\n",
    "# Calcular precisión y matriz de confusión para GMM\n",
    "accuracy_gmm = accuracy_score(y_test, y_pred_gmm)\n",
    "confusion_matrix_gmm = confusion_matrix(y_test, y_pred_gmm)\n",
    "\n",
    "# Imprimir métricas para GMM\n",
    "print(\"Precisión del modelo GMM:\", accuracy_gmm)\n",
    "print(\"Matriz de Confusión para GMM:\\n\", confusion_matrix_gmm)"
   ]
  },
  {
   "cell_type": "markdown",
   "id": "7d6ba24d",
   "metadata": {},
   "source": [
    "La precisión del modelo GMM es mucho más baja que la de LDA, con aproximadamente un 29.2%. Se predijo sólo una clase de todas las muestras del conjunto de prueba, por lo que se puede asumir que no pudo capturar la estructura de los datos correctamente.\n",
    "\n",
    "Los resultados de LDA son mucho mejores que los de GMM, ya que LDA es un modelo de clasificación lineal, mientras que GMM es un modelo de clasificación no lineal. Por lo tanto, LDA es capaz de capturar la estructura de los datos, mientras que GMM no."
   ]
  },
  {
   "cell_type": "markdown",
   "id": "07a41c43",
   "metadata": {},
   "source": [
    "#### Ejercicio 3D)"
   ]
  },
  {
   "cell_type": "code",
   "execution_count": 10,
   "id": "800e4343-cd34-4776-8fee-5f2a1ccd42c8",
   "metadata": {
    "tags": []
   },
   "outputs": [
    {
     "name": "stdout",
     "output_type": "stream",
     "text": [
      "Predicciones con LDA para 10 nuevas observaciones: [3 3 3 3 3 3 3 3 3 3]\n",
      "Predicciones con GMM para 10 nuevas observaciones: [1 1 1 1 1 1 1 1 1 1]\n"
     ]
    },
    {
     "name": "stderr",
     "output_type": "stream",
     "text": [
      "C:\\Users\\sebad\\anaconda3\\Lib\\site-packages\\sklearn\\base.py:464: UserWarning: X does not have valid feature names, but LinearDiscriminantAnalysis was fitted with feature names\n",
      "  warnings.warn(\n",
      "C:\\Users\\sebad\\anaconda3\\Lib\\site-packages\\sklearn\\base.py:464: UserWarning: X does not have valid feature names, but GaussianMixture was fitted with feature names\n",
      "  warnings.warn(\n"
     ]
    }
   ],
   "source": [
    "import numpy as np\n",
    "\n",
    "# Generar 10 nuevas observaciones de prueba (cambiar según tus necesidades)\n",
    "new_samples = np.random.rand(10, X.shape[1])\n",
    "\n",
    "# Clasificar con LDA\n",
    "y_new_pred_lda = lda.predict(new_samples)\n",
    "\n",
    "# Clasificar con GMM\n",
    "y_new_pred_gmm = gmm.predict(new_samples)\n",
    "\n",
    "# Imprimir las predicciones\n",
    "print(\"Predicciones con LDA para 10 nuevas observaciones:\", y_new_pred_lda)\n",
    "print(\"Predicciones con GMM para 10 nuevas observaciones:\", y_new_pred_gmm)"
   ]
  },
  {
   "cell_type": "markdown",
   "id": "b993172b",
   "metadata": {},
   "source": [
    "Tanto el modelo LDA como GMM asignan la misma etiqueta a todas las observaciones nuevas, por lo que se puede apreciar que ambos modelos no son capaces de clasificar correctamente las observaciones nuevas. Esto puede deberse a que los modelos no son capaces de capturar la estructura de los datos, o que los datos no son linealmente separables."
   ]
  }
 ],
 "metadata": {
  "kernelspec": {
   "display_name": "Python 3 (ipykernel)",
   "language": "python",
   "name": "python3"
  },
  "language_info": {
   "codemirror_mode": {
    "name": "ipython",
    "version": 3
   },
   "file_extension": ".py",
   "mimetype": "text/x-python",
   "name": "python",
   "nbconvert_exporter": "python",
   "pygments_lexer": "ipython3",
   "version": "3.11.4"
  }
 },
 "nbformat": 4,
 "nbformat_minor": 5
}
