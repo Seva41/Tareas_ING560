{
 "cells": [
  {
   "cell_type": "code",
   "execution_count": 1,
   "metadata": {},
   "outputs": [],
   "source": [
    "from ucimlrepo import fetch_ucirepo\n",
    "\n",
    "# Se carga el dataset\n",
    "glass_identification = fetch_ucirepo(id=42)"
   ]
  },
  {
   "cell_type": "code",
   "execution_count": 2,
   "metadata": {},
   "outputs": [
    {
     "name": "stdout",
     "output_type": "stream",
     "text": [
      "{'uci_id': 42, 'name': 'Glass Identification', 'repository_url': 'https://archive.ics.uci.edu/dataset/42/glass+identification', 'data_url': 'https://archive.ics.uci.edu/static/public/42/data.csv', 'abstract': 'From USA Forensic Science Service; 6 types of glass; defined in terms of their oxide content (i.e. Na, Fe, K, etc)', 'area': 'Physical Science', 'tasks': ['Classification'], 'characteristics': ['Multivariate'], 'num_instances': 214, 'num_features': 9, 'feature_types': ['Real'], 'demographics': [], 'target_col': ['Type_of_glass'], 'index_col': ['Id_number'], 'has_missing_values': 'no', 'missing_values_symbol': None, 'year_of_dataset_creation': 1987, 'last_updated': 'Thu Aug 10 2023', 'dataset_doi': '10.24432/C5WW2P', 'creators': ['B. German'], 'intro_paper': None, 'additional_info': {'summary': 'Vina conducted a comparison test of her rule-based system, BEAGLE, the nearest-neighbor algorithm, and discriminant analysis.  BEAGLE is a product available through VRS Consulting, Inc.; 4676 Admiralty Way, Suite 206; Marina Del Ray, CA 90292 (213) 827-7890 and FAX: -3189. In determining whether the glass was a type of \"float\" glass or not, the following results were obtained (# incorrect answers):\\r\\n\\r\\nType of Sample  -- Beagle -- NN -- DA\\r\\nWindows that were float processed (87)  -- 10 -- 12 -- 21\\r\\nWindows that were not:            (76) -- 19 -- 16 -- 22\\r\\n\\r\\nThe study of classification of types of glass was motivated by criminological investigation.  At the scene of the crime, the glass left can be used as evidence...if it is correctly identified!', 'purpose': None, 'funded_by': None, 'instances_represent': None, 'recommended_data_splits': None, 'sensitive_data': None, 'preprocessing_description': None, 'variable_info': '1. Id number: 1 to 214\\r\\n2. RI: refractive index\\r\\n3. Na: Sodium (unit measurement: weight percent in corresponding oxide, as are attributes 4-10)\\r\\n4. Mg: Magnesium\\r\\n5. Al: Aluminum\\r\\n6. Si: Silicon\\r\\n7. K: Potassium\\r\\n8. Ca: Calcium\\r\\n9. Ba: Barium\\r\\n10. Fe: Iron\\r\\n11. Type of glass: (class attribute)\\r\\n     -- 1 building_windows_float_processed\\r\\n     -- 2 building_windows_non_float_processed\\r\\n     -- 3 vehicle_windows_float_processed\\r\\n     -- 4 vehicle_windows_non_float_processed (none in this database)\\r\\n     -- 5 containers\\r\\n     -- 6 tableware\\r\\n     -- 7 headlamps', 'citation': None}}\n",
      "             name     role         type demographic       description  \\\n",
      "0       Id_number       ID      Integer        None              None   \n",
      "1              RI  Feature   Continuous        None  refractive index   \n",
      "2              Na  Feature   Continuous        None            Sodium   \n",
      "3              Mg  Feature   Continuous        None         Magnesium   \n",
      "4              Al  Feature   Continuous        None          Aluminum   \n",
      "5              Si  Feature   Continuous        None           Silicon   \n",
      "6               K  Feature   Continuous        None         Potassium   \n",
      "7              Ca  Feature   Continuous        None           Calcium   \n",
      "8              Ba  Feature   Continuous        None            Barium   \n",
      "9              Fe  Feature   Continuous        None              Iron   \n",
      "10  Type_of_glass   Target  Categorical        None              None   \n",
      "\n",
      "                                    units missing_values  \n",
      "0                                    None             no  \n",
      "1                                    None             no  \n",
      "2   weight percent in corresponding oxide             no  \n",
      "3   weight percent in corresponding oxide             no  \n",
      "4   weight percent in corresponding oxide             no  \n",
      "5   weight percent in corresponding oxide             no  \n",
      "6   weight percent in corresponding oxide             no  \n",
      "7   weight percent in corresponding oxide             no  \n",
      "8   weight percent in corresponding oxide             no  \n",
      "9   weight percent in corresponding oxide             no  \n",
      "10                                   None             no  \n"
     ]
    }
   ],
   "source": [
    "# Datos (como un DataFrame de pandas)\n",
    "X = glass_identification.data.features\n",
    "y = glass_identification.data.targets\n",
    "\n",
    "# Metadatos\n",
    "print(glass_identification.metadata)\n",
    "\n",
    "# Información de variables\n",
    "print(glass_identification.variables)"
   ]
  },
  {
   "cell_type": "code",
   "execution_count": null,
   "metadata": {},
   "outputs": [],
   "source": []
  }
 ],
 "metadata": {
  "kernelspec": {
   "display_name": "Python 3",
   "language": "python",
   "name": "python3"
  },
  "language_info": {
   "codemirror_mode": {
    "name": "ipython",
    "version": 3
   },
   "file_extension": ".py",
   "mimetype": "text/x-python",
   "name": "python",
   "nbconvert_exporter": "python",
   "pygments_lexer": "ipython3",
   "version": "3.11.5"
  },
  "orig_nbformat": 4
 },
 "nbformat": 4,
 "nbformat_minor": 2
}
